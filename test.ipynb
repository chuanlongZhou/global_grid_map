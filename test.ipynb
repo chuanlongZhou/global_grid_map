{
 "cells": [
  {
   "cell_type": "code",
   "execution_count": 1,
   "metadata": {},
   "outputs": [],
   "source": [
    "%load_ext autoreload\n",
    "%autoreload 2"
   ]
  },
  {
   "cell_type": "code",
   "execution_count": 2,
   "metadata": {},
   "outputs": [],
   "source": [
    "path= \"combf\"\n",
    "path= \"small\"\n",
    "path_csv=\"bm18_data3_0pass1_freq0_big1_pa100_t12_eq1_lc1.csv\""
   ]
  },
  {
   "cell_type": "code",
   "execution_count": 3,
   "metadata": {},
   "outputs": [],
   "source": [
    "import os\n",
    "import geopandas\n",
    "import pandas as pd\n",
    "import folium\n",
    "import base64"
   ]
  },
  {
   "cell_type": "code",
   "execution_count": 4,
   "metadata": {},
   "outputs": [],
   "source": [
    "from shapely.geometry import Polygon\n",
    "\n",
    "def create_polygon(box):\n",
    "    \"\"\"create box polygon for clipping the geopands df\n",
    "    \"\"\"\n",
    "    (max_lat, min_lon), (min_lat, max_lon) = box\n",
    "    return Polygon([(min_lon, max_lat), \n",
    "                    (min_lon, min_lat), \n",
    "                    (max_lon, min_lat), \n",
    "                    (max_lon, max_lat), \n",
    "                    (min_lon, max_lat)])"
   ]
  },
  {
   "cell_type": "code",
   "execution_count": 5,
   "metadata": {},
   "outputs": [],
   "source": [
    "import matplotlib\n",
    "import matplotlib.pyplot as plt\n",
    "from matplotlib import cm\n",
    "\n",
    "class MplColorHelper:\n",
    "\n",
    "  def __init__(self, cmap_name, start_val, stop_val):\n",
    "    self.cmap_name = cmap_name\n",
    "    self.cmap = plt.get_cmap(cmap_name)\n",
    "    self.norm = matplotlib.colors.Normalize(vmin=start_val, vmax=stop_val)\n",
    "    self.scalarMap = cm.ScalarMappable(norm=self.norm, cmap=self.cmap)\n",
    "\n",
    "  def get_rgb(self, val):\n",
    "    return self.scalarMap.to_rgba(val)"
   ]
  },
  {
   "cell_type": "code",
   "execution_count": 6,
   "metadata": {},
   "outputs": [],
   "source": [
    "files = os.listdir(path)"
   ]
  },
  {
   "cell_type": "code",
   "execution_count": 7,
   "metadata": {},
   "outputs": [
    {
     "data": {
      "text/html": [
       "<div>\n",
       "<style scoped>\n",
       "    .dataframe tbody tr th:only-of-type {\n",
       "        vertical-align: middle;\n",
       "    }\n",
       "\n",
       "    .dataframe tbody tr th {\n",
       "        vertical-align: top;\n",
       "    }\n",
       "\n",
       "    .dataframe thead th {\n",
       "        text-align: right;\n",
       "    }\n",
       "</style>\n",
       "<table border=\"1\" class=\"dataframe\">\n",
       "  <thead>\n",
       "    <tr style=\"text-align: right;\">\n",
       "      <th></th>\n",
       "      <th>0</th>\n",
       "      <th>1</th>\n",
       "      <th>2</th>\n",
       "      <th>3</th>\n",
       "      <th>4</th>\n",
       "      <th>5</th>\n",
       "      <th>6</th>\n",
       "      <th>7</th>\n",
       "      <th>8</th>\n",
       "      <th>9</th>\n",
       "      <th>...</th>\n",
       "      <th>184</th>\n",
       "      <th>185</th>\n",
       "      <th>186</th>\n",
       "      <th>187</th>\n",
       "      <th>188</th>\n",
       "      <th>189</th>\n",
       "      <th>190</th>\n",
       "      <th>191</th>\n",
       "      <th>192</th>\n",
       "      <th>193</th>\n",
       "    </tr>\n",
       "  </thead>\n",
       "  <tbody>\n",
       "    <tr>\n",
       "      <th>0</th>\n",
       "      <td>4</td>\n",
       "      <td>-10</td>\n",
       "      <td>13</td>\n",
       "      <td>1</td>\n",
       "      <td>0.344650</td>\n",
       "      <td>-0.092244</td>\n",
       "      <td>7.4709</td>\n",
       "      <td>6</td>\n",
       "      <td>80</td>\n",
       "      <td>7409.0</td>\n",
       "      <td>...</td>\n",
       "      <td>58</td>\n",
       "      <td>29</td>\n",
       "      <td>0</td>\n",
       "      <td>0.0</td>\n",
       "      <td>0</td>\n",
       "      <td>0</td>\n",
       "      <td>0</td>\n",
       "      <td>0</td>\n",
       "      <td>0</td>\n",
       "      <td>199.84</td>\n",
       "    </tr>\n",
       "    <tr>\n",
       "      <th>5</th>\n",
       "      <td>4</td>\n",
       "      <td>-10</td>\n",
       "      <td>18</td>\n",
       "      <td>6</td>\n",
       "      <td>0.139500</td>\n",
       "      <td>-1.581500</td>\n",
       "      <td>17.5270</td>\n",
       "      <td>4</td>\n",
       "      <td>80</td>\n",
       "      <td>124890.0</td>\n",
       "      <td>...</td>\n",
       "      <td>165</td>\n",
       "      <td>7</td>\n",
       "      <td>0</td>\n",
       "      <td>0.0</td>\n",
       "      <td>0</td>\n",
       "      <td>0</td>\n",
       "      <td>0</td>\n",
       "      <td>0</td>\n",
       "      <td>0</td>\n",
       "      <td>199.84</td>\n",
       "    </tr>\n",
       "    <tr>\n",
       "      <th>6</th>\n",
       "      <td>4</td>\n",
       "      <td>-10</td>\n",
       "      <td>19</td>\n",
       "      <td>7</td>\n",
       "      <td>0.533910</td>\n",
       "      <td>0.378550</td>\n",
       "      <td>27.5120</td>\n",
       "      <td>5</td>\n",
       "      <td>80</td>\n",
       "      <td>56054.0</td>\n",
       "      <td>...</td>\n",
       "      <td>138</td>\n",
       "      <td>14</td>\n",
       "      <td>0</td>\n",
       "      <td>0.0</td>\n",
       "      <td>0</td>\n",
       "      <td>0</td>\n",
       "      <td>0</td>\n",
       "      <td>0</td>\n",
       "      <td>0</td>\n",
       "      <td>273.64</td>\n",
       "    </tr>\n",
       "    <tr>\n",
       "      <th>7</th>\n",
       "      <td>4</td>\n",
       "      <td>-10</td>\n",
       "      <td>20</td>\n",
       "      <td>8</td>\n",
       "      <td>0.098575</td>\n",
       "      <td>-0.502380</td>\n",
       "      <td>3.3268</td>\n",
       "      <td>6</td>\n",
       "      <td>80</td>\n",
       "      <td>145600.0</td>\n",
       "      <td>...</td>\n",
       "      <td>126</td>\n",
       "      <td>7</td>\n",
       "      <td>0</td>\n",
       "      <td>0.0</td>\n",
       "      <td>0</td>\n",
       "      <td>0</td>\n",
       "      <td>0</td>\n",
       "      <td>0</td>\n",
       "      <td>0</td>\n",
       "      <td>347.44</td>\n",
       "    </tr>\n",
       "    <tr>\n",
       "      <th>8</th>\n",
       "      <td>4</td>\n",
       "      <td>-10</td>\n",
       "      <td>21</td>\n",
       "      <td>9</td>\n",
       "      <td>0.000100</td>\n",
       "      <td>-1.999700</td>\n",
       "      <td>32.6280</td>\n",
       "      <td>4</td>\n",
       "      <td>80</td>\n",
       "      <td>630960.0</td>\n",
       "      <td>...</td>\n",
       "      <td>148</td>\n",
       "      <td>13</td>\n",
       "      <td>0</td>\n",
       "      <td>0.0</td>\n",
       "      <td>0</td>\n",
       "      <td>0</td>\n",
       "      <td>0</td>\n",
       "      <td>0</td>\n",
       "      <td>0</td>\n",
       "      <td>327.15</td>\n",
       "    </tr>\n",
       "    <tr>\n",
       "      <th>...</th>\n",
       "      <td>...</td>\n",
       "      <td>...</td>\n",
       "      <td>...</td>\n",
       "      <td>...</td>\n",
       "      <td>...</td>\n",
       "      <td>...</td>\n",
       "      <td>...</td>\n",
       "      <td>...</td>\n",
       "      <td>...</td>\n",
       "      <td>...</td>\n",
       "      <td>...</td>\n",
       "      <td>...</td>\n",
       "      <td>...</td>\n",
       "      <td>...</td>\n",
       "      <td>...</td>\n",
       "      <td>...</td>\n",
       "      <td>...</td>\n",
       "      <td>...</td>\n",
       "      <td>...</td>\n",
       "      <td>...</td>\n",
       "      <td>...</td>\n",
       "    </tr>\n",
       "    <tr>\n",
       "      <th>4014</th>\n",
       "      <td>4</td>\n",
       "      <td>9</td>\n",
       "      <td>-80</td>\n",
       "      <td>4015</td>\n",
       "      <td>0.153370</td>\n",
       "      <td>-0.693250</td>\n",
       "      <td>72.0900</td>\n",
       "      <td>5</td>\n",
       "      <td>80</td>\n",
       "      <td>235740.0</td>\n",
       "      <td>...</td>\n",
       "      <td>126</td>\n",
       "      <td>44</td>\n",
       "      <td>0</td>\n",
       "      <td>0.0</td>\n",
       "      <td>0</td>\n",
       "      <td>0</td>\n",
       "      <td>0</td>\n",
       "      <td>0</td>\n",
       "      <td>0</td>\n",
       "      <td>222.59</td>\n",
       "    </tr>\n",
       "    <tr>\n",
       "      <th>4015</th>\n",
       "      <td>4</td>\n",
       "      <td>9</td>\n",
       "      <td>-81</td>\n",
       "      <td>4016</td>\n",
       "      <td>0.327450</td>\n",
       "      <td>0.159320</td>\n",
       "      <td>42.2360</td>\n",
       "      <td>11</td>\n",
       "      <td>80</td>\n",
       "      <td>3483100.0</td>\n",
       "      <td>...</td>\n",
       "      <td>189</td>\n",
       "      <td>51</td>\n",
       "      <td>210</td>\n",
       "      <td>39.0</td>\n",
       "      <td>274</td>\n",
       "      <td>182</td>\n",
       "      <td>236</td>\n",
       "      <td>207</td>\n",
       "      <td>35</td>\n",
       "      <td>206.59</td>\n",
       "    </tr>\n",
       "    <tr>\n",
       "      <th>4016</th>\n",
       "      <td>4</td>\n",
       "      <td>9</td>\n",
       "      <td>-82</td>\n",
       "      <td>4017</td>\n",
       "      <td>0.893420</td>\n",
       "      <td>0.680260</td>\n",
       "      <td>10.1890</td>\n",
       "      <td>4</td>\n",
       "      <td>80</td>\n",
       "      <td>4401500.0</td>\n",
       "      <td>...</td>\n",
       "      <td>215</td>\n",
       "      <td>47</td>\n",
       "      <td>199</td>\n",
       "      <td>14.0</td>\n",
       "      <td>267</td>\n",
       "      <td>171</td>\n",
       "      <td>229</td>\n",
       "      <td>198</td>\n",
       "      <td>36</td>\n",
       "      <td>198.64</td>\n",
       "    </tr>\n",
       "    <tr>\n",
       "      <th>4017</th>\n",
       "      <td>4</td>\n",
       "      <td>9</td>\n",
       "      <td>-83</td>\n",
       "      <td>4018</td>\n",
       "      <td>0.744950</td>\n",
       "      <td>0.642930</td>\n",
       "      <td>41.3600</td>\n",
       "      <td>8</td>\n",
       "      <td>80</td>\n",
       "      <td>3312600.0</td>\n",
       "      <td>...</td>\n",
       "      <td>197</td>\n",
       "      <td>68</td>\n",
       "      <td>206</td>\n",
       "      <td>8.0</td>\n",
       "      <td>298</td>\n",
       "      <td>167</td>\n",
       "      <td>241</td>\n",
       "      <td>203</td>\n",
       "      <td>53</td>\n",
       "      <td>203.36</td>\n",
       "    </tr>\n",
       "    <tr>\n",
       "      <th>4018</th>\n",
       "      <td>4</td>\n",
       "      <td>9</td>\n",
       "      <td>-84</td>\n",
       "      <td>4019</td>\n",
       "      <td>0.594520</td>\n",
       "      <td>0.459360</td>\n",
       "      <td>55.9540</td>\n",
       "      <td>9</td>\n",
       "      <td>80</td>\n",
       "      <td>2407700.0</td>\n",
       "      <td>...</td>\n",
       "      <td>162</td>\n",
       "      <td>57</td>\n",
       "      <td>0</td>\n",
       "      <td>0.0</td>\n",
       "      <td>0</td>\n",
       "      <td>0</td>\n",
       "      <td>0</td>\n",
       "      <td>0</td>\n",
       "      <td>0</td>\n",
       "      <td>236.19</td>\n",
       "    </tr>\n",
       "  </tbody>\n",
       "</table>\n",
       "<p>1592 rows × 194 columns</p>\n",
       "</div>"
      ],
      "text/plain": [
       "      0    1    2     3         4         5        6    7    8          9    \\\n",
       "0       4  -10   13     1  0.344650 -0.092244   7.4709    6   80     7409.0   \n",
       "5       4  -10   18     6  0.139500 -1.581500  17.5270    4   80   124890.0   \n",
       "6       4  -10   19     7  0.533910  0.378550  27.5120    5   80    56054.0   \n",
       "7       4  -10   20     8  0.098575 -0.502380   3.3268    6   80   145600.0   \n",
       "8       4  -10   21     9  0.000100 -1.999700  32.6280    4   80   630960.0   \n",
       "...   ...  ...  ...   ...       ...       ...      ...  ...  ...        ...   \n",
       "4014    4    9  -80  4015  0.153370 -0.693250  72.0900    5   80   235740.0   \n",
       "4015    4    9  -81  4016  0.327450  0.159320  42.2360   11   80  3483100.0   \n",
       "4016    4    9  -82  4017  0.893420  0.680260  10.1890    4   80  4401500.0   \n",
       "4017    4    9  -83  4018  0.744950  0.642930  41.3600    8   80  3312600.0   \n",
       "4018    4    9  -84  4019  0.594520  0.459360  55.9540    9   80  2407700.0   \n",
       "\n",
       "      ...  184  185  186   187  188  189  190  191  192     193  \n",
       "0     ...   58   29    0   0.0    0    0    0    0    0  199.84  \n",
       "5     ...  165    7    0   0.0    0    0    0    0    0  199.84  \n",
       "6     ...  138   14    0   0.0    0    0    0    0    0  273.64  \n",
       "7     ...  126    7    0   0.0    0    0    0    0    0  347.44  \n",
       "8     ...  148   13    0   0.0    0    0    0    0    0  327.15  \n",
       "...   ...  ...  ...  ...   ...  ...  ...  ...  ...  ...     ...  \n",
       "4014  ...  126   44    0   0.0    0    0    0    0    0  222.59  \n",
       "4015  ...  189   51  210  39.0  274  182  236  207   35  206.59  \n",
       "4016  ...  215   47  199  14.0  267  171  229  198   36  198.64  \n",
       "4017  ...  197   68  206   8.0  298  167  241  203   53  203.36  \n",
       "4018  ...  162   57    0   0.0    0    0    0    0    0  236.19  \n",
       "\n",
       "[1592 rows x 194 columns]"
      ]
     },
     "execution_count": 7,
     "metadata": {},
     "output_type": "execute_result"
    }
   ],
   "source": [
    "rdf = pd.read_csv(path_csv, header=None)\n",
    "rdf = rdf[(rdf[0]==4)&(rdf[4]>0)]\n",
    "rdf"
   ]
  },
  {
   "cell_type": "code",
   "execution_count": null,
   "metadata": {},
   "outputs": [],
   "source": [
    "15:recovery time \n",
    "16:recovery time "
   ]
  },
  {
   "cell_type": "code",
   "execution_count": 8,
   "metadata": {},
   "outputs": [],
   "source": [
    "lat =[]\n",
    "lon =[]\n",
    "R2 =[]\n",
    "geometry =[]\n",
    "file =[]\n",
    "RT = []\n",
    "for index, row in rdf.iterrows():\n",
    "    la, lo, r2, rt = int(row[1]), int(row[2]), row[4], row[15]\n",
    "    if rt>100:\n",
    "        rt=100\n",
    "    f = [files.index(l) for l in files if l.startswith(f\"{la}_{lo}\")]\n",
    "    lat.append(la)\n",
    "    lon.append(lo)\n",
    "    R2.append(r2)\n",
    "    RT.append(rt)\n",
    "    geometry.append(create_polygon(((la,lo),(la-1, lo-1))))\n",
    "    file.append(None if len(f)==0 else files[f[0]])"
   ]
  },
  {
   "cell_type": "code",
   "execution_count": 10,
   "metadata": {},
   "outputs": [],
   "source": [
    "d = {'lat': lat, 'lon': lon, \"r2\":R2, \"recovery time\":RT, \"file\":file, \"geometry\": geometry}\n",
    "gdf = geopandas.GeoDataFrame(d, crs='epsg:4326')"
   ]
  },
  {
   "cell_type": "code",
   "execution_count": 13,
   "metadata": {},
   "outputs": [
    {
     "data": {
      "text/plain": [
       "array(['-10_13_1_121221213111.png', '-10_18_6_121221213111.png',\n",
       "       '-10_19_7_121221213111.png', ..., '9_-82_496_121221213111.png',\n",
       "       '9_-83_497_121221213111.png', '9_-84_498_121221213111.png'],\n",
       "      dtype=object)"
      ]
     },
     "execution_count": 13,
     "metadata": {},
     "output_type": "execute_result"
    }
   ],
   "source": [
    "gdf[\"file\"].unique()"
   ]
  },
  {
   "cell_type": "code",
   "execution_count": 38,
   "metadata": {},
   "outputs": [],
   "source": [
    "# gdf.explore(column=\"r2\", cmap=\"copper\",style_kwds={\"weight\":0.1})"
   ]
  },
  {
   "cell_type": "code",
   "execution_count": 16,
   "metadata": {},
   "outputs": [
    {
     "data": {
      "text/plain": [
       "463"
      ]
     },
     "execution_count": 16,
     "metadata": {},
     "output_type": "execute_result"
    }
   ],
   "source": [
    "s=0\n",
    "for i, r in gdf.iterrows():\n",
    "    if r[\"file\"] is None:\n",
    "        s+=1\n",
    "s"
   ]
  },
  {
   "cell_type": "code",
   "execution_count": null,
   "metadata": {},
   "outputs": [],
   "source": [
    "# color_map = MplColorHelper(\"autumn_r\",0,1)\n",
    "# m = folium.Map()\n",
    "m = gdf.explore(name=\"r2\", column=\"r2\", cmap=\"Reds\",style_kwds={\"weight\":0.5})\n",
    "gdf.explore(name=\"recovery time\", column=\"recovery time\", cmap=\"YlGn\",style_kwds={\"weight\":0.5}, m=m)\n",
    "\n",
    "fg = folium.FeatureGroup(name=\"plots\", show=True)\n",
    "\n",
    "# create a geojson layer for each feature\n",
    "for i, r in gdf.iterrows():\n",
    "    # if i>100:\n",
    "    #     break\n",
    "    # geodataframe of row\n",
    "    gdf_ = geopandas.GeoDataFrame(r.to_frame().T, crs=gdf.crs)\n",
    "    \n",
    "    scr = \"\"\n",
    "    if r[\"file\"] is not None:\n",
    "        f_path = os.path.join(path, r[\"file\"])\n",
    "        encoded = base64.b64encode(open(f_path, 'rb').read())\n",
    "        scr = \"data:image/png;base64,\" + encoded.decode(\"utf-8\")\n",
    "    # URI encoded image of plotly figure\n",
    "    img_ = f'<img width=\"450\" height=\"450\" src=\"{scr}\"/>'\n",
    "\n",
    "        \n",
    "    choro_ = folium.GeoJson(\n",
    "        gdf_.__geo_interface__,\n",
    "        name=r[\"file\"],\n",
    "        style_function=lambda x: {\"fillOpacity\":0,\n",
    "                                  \"opacity\":0},\n",
    "        tooltip=folium.GeoJsonTooltip(gdf_.drop(columns=[\"file\", \"geometry\"]).columns.tolist()),\n",
    "    )\n",
    "    # this is the real work around, add to layer which is a choro\n",
    "    folium.Popup(img_).add_to(choro_)\n",
    "    choro_.add_to(fg)\n",
    "\n",
    "fg.add_to(m)\n",
    "folium.LayerControl().add_to(m)\n",
    "m.save(\"map.html\")\n",
    "m"
   ]
  },
  {
   "cell_type": "code",
   "execution_count": 41,
   "metadata": {},
   "outputs": [],
   "source": [
    "m.save(\"map.html\")"
   ]
  },
  {
   "cell_type": "code",
   "execution_count": 110,
   "metadata": {},
   "outputs": [],
   "source": [
    "import matplotlib.image as mpimg\n",
    "import matplotlib.pyplot as plt"
   ]
  },
  {
   "cell_type": "code",
   "execution_count": 111,
   "metadata": {},
   "outputs": [
    {
     "data": {
      "text/plain": [
       "<matplotlib.image.AxesImage at 0x2b8f4648e0d0>"
      ]
     },
     "execution_count": 111,
     "metadata": {},
     "output_type": "execute_result"
    },
    {
     "data": {
      "image/png": "[encoded data removed]",
      "text/plain": [
       "<Figure size 640x480 with 1 Axes>"
      ]
     },
     "metadata": {},
     "output_type": "display_data"
    }
   ],
   "source": [
    "img = mpimg.imread(f_path)\n",
    "plt.imshow(img)"
   ]
  },
  {
   "cell_type": "code",
   "execution_count": 15,
   "metadata": {},
   "outputs": [],
   "source": []
  },
  {
   "cell_type": "code",
   "execution_count": 44,
   "metadata": {},
   "outputs": [
    {
     "data": {
      "text/plain": [
       "(0.029065737105639713, 0.018381176470588234, 0.011705882352941177, 1.0)"
      ]
     },
     "execution_count": 44,
     "metadata": {},
     "output_type": "execute_result"
    }
   ],
   "source": [
    "color"
   ]
  },
  {
   "cell_type": "code",
   "execution_count": 45,
   "metadata": {},
   "outputs": [],
   "source": [
    "COL = MplColorHelper('autumn_r', 0, 1)"
   ]
  },
  {
   "cell_type": "code",
   "execution_count": 27,
   "metadata": {},
   "outputs": [],
   "source": [
    "from PIL import Image"
   ]
  },
  {
   "cell_type": "code",
   "execution_count": 28,
   "metadata": {},
   "outputs": [],
   "source": [
    "for f in files:\n",
    "    image = Image.open(os.path.join(path, f))\n",
    "    new_image = image.resize((500, 500))\n",
    "    new_image.save(os.path.join(\"small\", f))"
   ]
  },
  {
   "cell_type": "code",
   "execution_count": null,
   "metadata": {},
   "outputs": [],
   "source": []
  }
 ],
 "metadata": {
  "kernelspec": {
   "display_name": "python39",
   "language": "python",
   "name": "python3"
  },
  "language_info": {
   "codemirror_mode": {
    "name": "ipython",
    "version": 3
   },
   "file_extension": ".py",
   "mimetype": "text/x-python",
   "name": "python",
   "nbconvert_exporter": "python",
   "pygments_lexer": "ipython3",
   "version": "3.9.16"
  },
  "orig_nbformat": 4,
  "vscode": {
   "interpreter": {
    "hash": "1b8b4292ed7288b1b8a747ac9b8b9a3b7f294655a70102c6a2e2a432f21c77f5"
   }
  }
 },
 "nbformat": 4,
 "nbformat_minor": 2
}
